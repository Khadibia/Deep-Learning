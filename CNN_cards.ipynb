{
 "cells": [
  {
   "cell_type": "markdown",
   "metadata": {},
   "source": [
    "## Poker Card Classifer using CNNs\n",
    "In this project, I built a Convolutional Neural Network (CNN) using PyTorch to classify poker playing cards from images. The goal was to accurately identify the specific card shown in each image — both rank and suit.\n",
    "\n",
    "I started by converting the images from greyscale to RGB, then calculated the dataset’s mean and standard deviation to normalise the pixel values properly. After splitting the data into training and validation sets and confirming balanced class distribution, I designed and trained a CNN from scratch.\n",
    "\n",
    "The model improved steadily over three epochs, reaching around 63% training accuracy and 50% validation accuracy by the final epoch. I also tested the model on three random card images downloaded from the internet to see how well it handled real-world examples."
   ]
  },
  {
   "cell_type": "code",
   "execution_count": 4,
   "metadata": {
    "colab": {
     "base_uri": "https://localhost:8080/"
    },
    "id": "us_hlHbhSmK2",
    "outputId": "4c29c757-1920-4e8c-bb68-75bf3a85c74b"
   },
   "outputs": [
    {
     "name": "stdout",
     "output_type": "stream",
     "text": [
      "Device is cpu.\n"
     ]
    }
   ],
   "source": [
    "import torch\n",
    "if torch.cuda.is_available():\n",
    "    device = \"cuda\"\n",
    "else:\n",
    "    device = \"cpu\"\n",
    "\n",
    "print(f\"Device is {device}.\")"
   ]
  },
  {
   "cell_type": "markdown",
   "metadata": {
    "id": "v-MK3DWtZzV5"
   },
   "source": [
    "Transform our data by converting greyscale to RGB, resizing to 224 x 224, and converting to tensors."
   ]
  },
  {
   "cell_type": "code",
   "execution_count": 6,
   "metadata": {
    "id": "Q4IppupCaFLm"
   },
   "outputs": [],
   "source": [
    "class ConvertToRGB:\n",
    "    def __call__(self, img):\n",
    "        if img.mode != \"RGB\":\n",
    "            img = img.convert(\"RGB\")\n",
    "        return img"
   ]
  },
  {
   "cell_type": "code",
   "execution_count": 7,
   "metadata": {
    "id": "vhyl--oKL0HZ"
   },
   "outputs": [],
   "source": [
    "from torchvision import transforms\n",
    "transform = transforms.Compose(\n",
    "    [\n",
    "        ConvertToRGB(),\n",
    "        transforms.Resize((224, 224)),\n",
    "        transforms.ToTensor()\n",
    "    ]\n",
    ")"
   ]
  },
  {
   "cell_type": "code",
   "execution_count": 8,
   "metadata": {
    "colab": {
     "base_uri": "https://localhost:8080/"
    },
    "id": "ovYntoMWNIVX",
    "outputId": "15ad4513-ee98-4c76-9594-47af83121c99"
   },
   "outputs": [
    {
     "name": "stdout",
     "output_type": "stream",
     "text": [
      "will read train data from; C:\\Users\\hp\\Documents\\Datasets\\images\\cards\\train\n"
     ]
    }
   ],
   "source": [
    "# Reading train data\n",
    "train_dir = r'C:\\Users\\hp\\Documents\\Datasets\\images\\cards\\train'\n",
    "print(f'will read train data from; {train_dir}')"
   ]
  },
  {
   "cell_type": "code",
   "execution_count": 9,
   "metadata": {
    "id": "MMyxo9phOZxn"
   },
   "outputs": [],
   "source": [
    "# loading dataset using train directory\n",
    "from torchvision import datasets\n",
    "dataset = datasets.ImageFolder(train_dir, transform=transform)"
   ]
  },
  {
   "cell_type": "code",
   "execution_count": 10,
   "metadata": {
    "colab": {
     "base_uri": "https://localhost:8080/"
    },
    "id": "JtpGsWyXPGA6",
    "outputId": "ff7b2861-fe0b-44a1-8425-af22f82140e4"
   },
   "outputs": [
    {
     "name": "stdout",
     "output_type": "stream",
     "text": [
      "list of classes in dataset: ['ace of clubs', 'ace of diamonds', 'ace of hearts', 'ace of spades', 'eight of clubs', 'eight of diamonds', 'eight of hearts', 'eight of spades', 'five of clubs', 'five of diamonds', 'five of hearts', 'five of spades', 'four of clubs', 'four of diamonds', 'four of hearts', 'four of spades', 'jack of clubs', 'jack of diamonds', 'jack of hearts', 'jack of spades', 'joker', 'king of clubs', 'king of diamonds', 'king of hearts', 'king of spades', 'nine of clubs', 'nine of diamonds', 'nine of hearts', 'nine of spades', 'queen of clubs', 'queen of diamonds', 'queen of hearts', 'queen of spades', 'seven of clubs', 'seven of diamonds', 'seven of hearts', 'seven of spades', 'six of clubs', 'six of diamonds', 'six of hearts', 'six of spades', 'ten of clubs', 'ten of diamonds', 'ten of hearts', 'ten of spades', 'three of clubs', 'three of diamonds', 'three of hearts', 'three of spades', 'two of clubs', 'two of diamonds', 'two of hearts', 'two of spades']\n",
      "legth of dataset classes is  53\n",
      "torch.Size([3, 224, 224])\n"
     ]
    }
   ],
   "source": [
    "# classes of this dataset\n",
    "print('list of classes in dataset:',dataset.classes)\n",
    "# Length of dataset classes\n",
    "print('legth of dataset classes is ',len(dataset.classes))\n",
    "# shape of a single image\n",
    "print(dataset[0][0].shape)"
   ]
  },
  {
   "cell_type": "markdown",
   "metadata": {
    "id": "0XAcCXT9QS8m"
   },
   "source": [
    "Batching the dataset using `DataLoader`, with a batch size of 32"
   ]
  },
  {
   "cell_type": "code",
   "execution_count": 12,
   "metadata": {
    "id": "tzYVYGEYQRL0"
   },
   "outputs": [],
   "source": [
    "from torch.utils.data import DataLoader\n",
    "batch_size = 32\n",
    "Loader = DataLoader(dataset, batch_size=batch_size)"
   ]
  },
  {
   "cell_type": "code",
   "execution_count": 13,
   "metadata": {
    "colab": {
     "base_uri": "https://localhost:8080/"
    },
    "id": "EZh4nJsCRM0c",
    "outputId": "6cb141e2-63e7-48cb-a466-3ed02df2331c"
   },
   "outputs": [
    {
     "name": "stdout",
     "output_type": "stream",
     "text": [
      "shape of one batch torch.Size([32, 3, 224, 224])\n",
      "shape of labels torch.Size([32])\n"
     ]
    }
   ],
   "source": [
    "# Inspecting a batch\n",
    "batch1 = next(iter(Loader))\n",
    "\n",
    "print('shape of one batch', batch1[0].shape)\n",
    "print('shape of labels', batch1[1].shape)"
   ]
  },
  {
   "cell_type": "code",
   "execution_count": 14,
   "metadata": {
    "colab": {
     "base_uri": "https://localhost:8080/"
    },
    "id": "hqyHkxjcTdrs",
    "outputId": "a57e162d-c697-4d31-feec-fc498b1a211b"
   },
   "outputs": [],
   "source": [
    "# Computing mean and std of the data\n",
    "sum_, sum_sq, count = 0, 0, 0\n",
    "for i, (data, _) in enumerate(Loader):\n",
    "    if i == 100: break\n",
    "    batch_size, channels, height, width = data.shape\n",
    "    data = data.view(batch_size, channels, -1)\n",
    "    sum_ += data.sum(dim=[0, 2])\n",
    "    sum_sq += (data ** 2).sum(dim=[0, 2])\n",
    "    count += batch_size * height * width\n",
    "\n",
    "mean = sum_ / count\n",
    "std = (sum_sq / count - mean ** 2).sqrt()"
   ]
  },
  {
   "cell_type": "code",
   "execution_count": 15,
   "metadata": {
    "colab": {
     "base_uri": "https://localhost:8080/"
    },
    "id": "wvak0A0foHKF",
    "outputId": "8a86d0f3-9a49-4200-8187-2f087fd8d68b"
   },
   "outputs": [
    {
     "name": "stdout",
     "output_type": "stream",
     "text": [
      "mean:  tensor([0.7750, 0.7294, 0.7010])\n",
      "std:  tensor([0.3087, 0.3369, 0.3432])\n"
     ]
    }
   ],
   "source": [
    "# Values\n",
    "print('mean: ',mean)\n",
    "print('std: ',std)"
   ]
  },
  {
   "cell_type": "code",
   "execution_count": 16,
   "metadata": {
    "id": "226jd3SQSH8I"
   },
   "outputs": [],
   "source": [
    "# Normalise using transform from torchvison\n",
    "transform_norm = transforms.Compose([\n",
    "    ConvertToRGB(),\n",
    "    transforms.Resize((224,224)),\n",
    "    transforms.ToTensor(),\n",
    "    transforms.Normalize(mean=mean, std=std)\n",
    "])"
   ]
  },
  {
   "cell_type": "code",
   "execution_count": 17,
   "metadata": {
    "id": "dZ-HMYUhUISZ"
   },
   "outputs": [],
   "source": [
    "# Creating a new Datset and DataLoader with new transformer\n",
    "dataset_norm = datasets.ImageFolder(train_dir, transform=transform_norm)\n",
    "loader_norm = DataLoader(dataset_norm, batch_size=batch_size)"
   ]
  },
  {
   "cell_type": "code",
   "execution_count": 18,
   "metadata": {
    "colab": {
     "base_uri": "https://localhost:8080/"
    },
    "id": "AedRkynPVA3l",
    "outputId": "33a3c0c8-8222-4ff5-a24c-d4ad33b6edea"
   },
   "outputs": [
    {
     "name": "stdout",
     "output_type": "stream",
     "text": [
      "mean:  tensor([-2.4523e-07, -5.0019e-07, -4.0132e-07])\n",
      "std:  tensor([1.0000, 1.0000, 1.0000])\n"
     ]
    }
   ],
   "source": [
    "sum_, sum_sq, count = 0, 0, 0\n",
    "for i, (data, _) in enumerate(loader_norm):\n",
    "    if i == 100: break\n",
    "    batch_size, channels, height, width = data.shape\n",
    "    data = data.view(batch_size, channels, -1)\n",
    "    sum_ += data.sum(dim=[0, 2])\n",
    "    sum_sq += (data ** 2).sum(dim=[0, 2])\n",
    "    count += batch_size * height * width\n",
    "\n",
    "mean = sum_ / count\n",
    "std = (sum_sq / count - mean ** 2).sqrt()\n",
    "\n",
    "print('mean: ',mean)\n",
    "print('std: ',std)"
   ]
  },
  {
   "cell_type": "markdown",
   "metadata": {
    "id": "BwJtQtrgW5p8"
   },
   "source": [
    "The means are not exactly zero due to machine precision, but they are extremely small."
   ]
  },
  {
   "cell_type": "code",
   "execution_count": 20,
   "metadata": {
    "colab": {
     "base_uri": "https://localhost:8080/"
    },
    "id": "2rUO0zRnW_Bb",
    "outputId": "46d7aa8d-7ead-4040-dad6-9788f968e878"
   },
   "outputs": [
    {
     "name": "stdout",
     "output_type": "stream",
     "text": [
      "length of train dataset is 0.75%\n",
      "length of train dataset is 0.25%\n"
     ]
    }
   ],
   "source": [
    "# Splittin into train and validation\n",
    "from torch.utils.data import random_split\n",
    "g = torch.Generator()\n",
    "g.manual_seed(26)\n",
    "\n",
    "train_dataset, val_dataset = random_split(dataset_norm, [0.75, 0.25], generator=g)\n",
    "\n",
    "len_train = len(train_dataset) / (len(train_dataset) + len(val_dataset))\n",
    "len_val = len(val_dataset) / (len(train_dataset) + len(val_dataset))\n",
    "print(f'length of train dataset is {len_train}%')\n",
    "print(f'length of train dataset is {len_val}%')"
   ]
  },
  {
   "cell_type": "code",
   "execution_count": 55,
   "metadata": {
    "id": "MjQCBGIsXKmu"
   },
   "outputs": [],
   "source": [
    "from tqdm.notebook import tqdm\n",
    "import pandas as pd\n",
    "# Examining class distriution\n",
    "from collections import Counter\n",
    "def class_dist(dataset):\n",
    "    counter = Counter(x[1] for x in tqdm(dataset))\n",
    "    class_to_index = dataset.dataset.class_to_idx\n",
    "    return pd.Series({cat: counter[idx] for cat, idx in class_to_index.items()})"
   ]
  },
  {
   "cell_type": "code",
   "execution_count": 56,
   "metadata": {
    "colab": {
     "base_uri": "https://localhost:8080/",
     "height": 1000,
     "referenced_widgets": [
      "d0dbda4592ba4278848a2373d65aabe1",
      "59b1e076b41e4b0e93ab451523e286b0",
      "6b6adb788fc740d0ba226b64a3dae57b",
      "dd47c055e40a4d4d9745a82468057d14",
      "aeab3eb471e043e5a89285a06844967c",
      "b10bcb6bf6714a458ed526a3a0ba4e90",
      "977957d1b1d14ed8bfd2fa223800cc10",
      "a1a0be9fcec04bc0abcff95b6344d0da",
      "d1763ddc175446cc9445bcf2c74d3d0c",
      "0f69d005c1c042529eaf6d7520592358",
      "cc3f187af53c4aa9aeb2b1b9b8608b60"
     ]
    },
    "id": "cgI6T0L_n0vT",
    "outputId": "b658fd84-8d0b-49f2-ce0b-77b8ef5ad379"
   },
   "outputs": [
    {
     "data": {
      "application/vnd.jupyter.widget-view+json": {
       "model_id": "fc4eb529a0b64fe4aff703a435911ee8",
       "version_major": 2,
       "version_minor": 0
      },
      "text/plain": [
       "  0%|          | 0/5718 [00:00<?, ?it/s]"
      ]
     },
     "metadata": {},
     "output_type": "display_data"
    },
    {
     "data": {
      "text/plain": [
       "ace of clubs          99\n",
       "ace of diamonds       88\n",
       "ace of hearts        128\n",
       "ace of spades        136\n",
       "eight of clubs       110\n",
       "eight of diamonds    123\n",
       "eight of hearts      102\n",
       "eight of spades      109\n",
       "five of clubs        106\n",
       "five of diamonds     103\n",
       "five of hearts       103\n",
       "five of spades       118\n",
       "four of clubs        128\n",
       "four of diamonds      82\n",
       "four of hearts       121\n",
       "four of spades       101\n",
       "jack of clubs        137\n",
       "jack of diamonds     126\n",
       "jack of hearts       127\n",
       "jack of spades       125\n",
       "joker                 86\n",
       "king of clubs         97\n",
       "king of diamonds     111\n",
       "king of hearts        89\n",
       "king of spades       110\n",
       "nine of clubs         92\n",
       "nine of diamonds      94\n",
       "nine of hearts        93\n",
       "nine of spades       114\n",
       "queen of clubs       119\n",
       "queen of diamonds    119\n",
       "queen of hearts      100\n",
       "queen of spades      123\n",
       "seven of clubs        78\n",
       "seven of diamonds    101\n",
       "seven of hearts       97\n",
       "seven of spades      119\n",
       "six of clubs         121\n",
       "six of diamonds      102\n",
       "six of hearts        100\n",
       "six of spades        115\n",
       "ten of clubs         105\n",
       "ten of diamonds      112\n",
       "ten of hearts         92\n",
       "ten of spades        113\n",
       "three of clubs        98\n",
       "three of diamonds    118\n",
       "three of hearts       83\n",
       "three of spades      115\n",
       "two of clubs          96\n",
       "two of diamonds      104\n",
       "two of hearts        112\n",
       "two of spades        118\n",
       "dtype: int64"
      ]
     },
     "execution_count": 56,
     "metadata": {},
     "output_type": "execute_result"
    }
   ],
   "source": [
    "train_distribution = class_dist(train_dataset)\n",
    "\n",
    "train_distribution"
   ]
  },
  {
   "cell_type": "markdown",
   "metadata": {
    "id": "Hm8CbT66tix7"
   },
   "source": [
    "The dataset exhibits a mild to moderate class imbalance. The most represented class has 140 samples (ace of spades), while the least represented has 77 samples (four of diamonds). This gives a class imbalance ratio of 1.8, which is not extreme and is generally manageable in deep learning workflows."
   ]
  },
  {
   "cell_type": "code",
   "execution_count": 58,
   "metadata": {
    "colab": {
     "base_uri": "https://localhost:8080/",
     "height": 1000,
     "referenced_widgets": [
      "b17f53efabf143c48cef4b16d151b0a3",
      "8798185f0c344c0595c873f50eaadbc7",
      "6a187cfc5d374f2986c35eeb5873ccc6",
      "556bed9f13ae47a9868271bc17b5e4e4",
      "02dfd3a01c8f43e4b39ab2b5b5168b5e",
      "6ac532b706854a13a3133f067940a961",
      "1ff0fd78673e48ddad1fbc2e693b5839",
      "2db3d332ef3745f59989e7f899e56845",
      "e991c1150d9d4352bc01526c438e3976",
      "989f3347208d4d43b898f1c13f266fab",
      "a2cc90ee5eb14b609bcdd85845bdc76d"
     ]
    },
    "id": "h-kyRukttu4j",
    "outputId": "181989fc-be02-4342-d60c-932e36781e72"
   },
   "outputs": [
    {
     "data": {
      "application/vnd.jupyter.widget-view+json": {
       "model_id": "398a8be2ff774fefaf3943a0a69107fb",
       "version_major": 2,
       "version_minor": 0
      },
      "text/plain": [
       "  0%|          | 0/1906 [00:00<?, ?it/s]"
      ]
     },
     "metadata": {},
     "output_type": "display_data"
    },
    {
     "data": {
      "text/plain": [
       "ace of clubs         21\n",
       "ace of diamonds      41\n",
       "ace of hearts        43\n",
       "ace of spades        45\n",
       "eight of clubs       28\n",
       "eight of diamonds    36\n",
       "eight of hearts      50\n",
       "eight of spades      26\n",
       "five of clubs        44\n",
       "five of diamonds     35\n",
       "five of hearts       33\n",
       "five of spades       40\n",
       "four of clubs        29\n",
       "four of diamonds     32\n",
       "four of hearts       33\n",
       "four of spades       39\n",
       "jack of clubs        34\n",
       "jack of diamonds     34\n",
       "jack of hearts       41\n",
       "jack of spades       47\n",
       "joker                29\n",
       "king of clubs        31\n",
       "king of diamonds     24\n",
       "king of hearts       36\n",
       "king of spades       41\n",
       "nine of clubs        32\n",
       "nine of diamonds     35\n",
       "nine of hearts       40\n",
       "nine of spades       40\n",
       "queen of clubs       42\n",
       "queen of diamonds    44\n",
       "queen of hearts      39\n",
       "queen of spades      39\n",
       "seven of clubs       30\n",
       "seven of diamonds    23\n",
       "seven of hearts      46\n",
       "seven of spades      46\n",
       "six of clubs         31\n",
       "six of diamonds      37\n",
       "six of hearts        27\n",
       "six of spades        43\n",
       "ten of clubs         36\n",
       "ten of diamonds      39\n",
       "ten of hearts        37\n",
       "ten of spades        45\n",
       "three of clubs       28\n",
       "three of diamonds    35\n",
       "three of hearts      30\n",
       "three of spades      27\n",
       "two of clubs         34\n",
       "two of diamonds      29\n",
       "two of hearts        43\n",
       "two of spades        37\n",
       "dtype: int64"
      ]
     },
     "execution_count": 58,
     "metadata": {},
     "output_type": "execute_result"
    }
   ],
   "source": [
    "val_distribution = class_dist(val_dataset)\n",
    "val_distribution"
   ]
  },
  {
   "cell_type": "code",
   "execution_count": 59,
   "metadata": {
    "colab": {
     "base_uri": "https://localhost:8080/"
    },
    "id": "ZjMNR5JE-oFI",
    "outputId": "391f82fe-0668-491d-97f8-fd73524f3057"
   },
   "outputs": [
    {
     "name": "stdout",
     "output_type": "stream",
     "text": [
      "Shape of one batch: torch.Size([32, 3, 224, 224])\n"
     ]
    }
   ],
   "source": [
    "g = torch.Generator()\n",
    "g.manual_seed(42)\n",
    "\n",
    "\n",
    "train_loader = DataLoader(train_dataset, batch_size=32, shuffle=True, generator=g)\n",
    "\n",
    "val_loader = DataLoader(val_dataset, batch_size=batch_size)\n",
    "\n",
    "single_batch = next(iter(train_loader))[0]\n",
    "print(f\"Shape of one batch: {single_batch.shape}\")"
   ]
  },
  {
   "cell_type": "markdown",
   "metadata": {
    "id": "Jrwhj6k1BTGg"
   },
   "source": [
    "# The Model"
   ]
  },
  {
   "cell_type": "markdown",
   "metadata": {
    "id": "teMEFR5iOC10"
   },
   "source": [
    "## Network Architecture, Convolution, and Max Pooling Layers\n",
    "A model with four layers will be made"
   ]
  },
  {
   "cell_type": "code",
   "execution_count": 63,
   "metadata": {
    "id": "uXahiM5lOLhi"
   },
   "outputs": [],
   "source": [
    "import torch\n",
    "# Sequential to contain it all\n",
    "model = torch.nn.Sequential()"
   ]
  },
  {
   "cell_type": "code",
   "execution_count": 64,
   "metadata": {
    "colab": {
     "base_uri": "https://localhost:8080/"
    },
    "id": "StAxtUMhTLho",
    "outputId": "bd91cf6b-dbca-4aea-9f71-ff56dc3c4b86"
   },
   "outputs": [
    {
     "data": {
      "text/plain": [
       "Sequential(\n",
       "  (0): Conv2d(3, 16, kernel_size=(3, 3), stride=(1, 1), padding=(1, 1))\n",
       ")"
      ]
     },
     "execution_count": 64,
     "metadata": {},
     "output_type": "execute_result"
    }
   ],
   "source": [
    "# Layer 1\n",
    "conv1 = torch.nn.Conv2d(in_channels=3, out_channels=16, kernel_size=(3, 3), padding=1)\n",
    "model.append(conv1)"
   ]
  },
  {
   "cell_type": "markdown",
   "metadata": {
    "id": "CdKj5FiPWWRB"
   },
   "source": [
    "to con"
   ]
  },
  {
   "cell_type": "code",
   "execution_count": 66,
   "metadata": {
    "colab": {
     "base_uri": "https://localhost:8080/"
    },
    "id": "bYDO8TpcUcTP",
    "outputId": "ada3d4b6-e82d-4958-a24f-e8087c594f10"
   },
   "outputs": [
    {
     "name": "stdout",
     "output_type": "stream",
     "text": [
      "torch.Size([32, 3, 224, 224])\n",
      "torch.Size([32, 16, 224, 224])\n"
     ]
    }
   ],
   "source": [
    "test_batch = next(iter(train_loader))[0]\n",
    "batch_shape = test_batch.shape\n",
    "print(batch_shape)\n",
    "first_step_out = model(test_batch)\n",
    "first_step_shape = first_step_out.shape\n",
    "print(first_step_shape)"
   ]
  },
  {
   "cell_type": "code",
   "execution_count": 67,
   "metadata": {
    "colab": {
     "base_uri": "https://localhost:8080/"
    },
    "id": "hkEBuVZrW_j3",
    "outputId": "b86a5576-6f7d-4fa9-9e2d-003ba09c3df7"
   },
   "outputs": [
    {
     "data": {
      "text/plain": [
       "Sequential(\n",
       "  (0): Conv2d(3, 16, kernel_size=(3, 3), stride=(1, 1), padding=(1, 1))\n",
       "  (1): ReLU()\n",
       ")"
      ]
     },
     "execution_count": 67,
     "metadata": {},
     "output_type": "execute_result"
    }
   ],
   "source": [
    "# Adding an activation function\n",
    "model.append(torch.nn.ReLU())"
   ]
  },
  {
   "cell_type": "code",
   "execution_count": 68,
   "metadata": {
    "colab": {
     "base_uri": "https://localhost:8080/"
    },
    "id": "6sM7K8jtXXzB",
    "outputId": "0940a7fd-749a-4425-eeb5-08644c6a3790"
   },
   "outputs": [
    {
     "data": {
      "text/plain": [
       "Sequential(\n",
       "  (0): Conv2d(3, 16, kernel_size=(3, 3), stride=(1, 1), padding=(1, 1))\n",
       "  (1): ReLU()\n",
       "  (2): MaxPool2d(kernel_size=(2, 2), stride=2, padding=0, dilation=1, ceil_mode=False)\n",
       ")"
      ]
     },
     "execution_count": 68,
     "metadata": {},
     "output_type": "execute_result"
    }
   ],
   "source": [
    "# Max pool layer\n",
    "max_pool1 = torch.nn.MaxPool2d(kernel_size=(2, 2), stride=2)\n",
    "model.append(max_pool1)"
   ]
  },
  {
   "cell_type": "markdown",
   "metadata": {
    "id": "8MuBXPZvYRGq"
   },
   "source": [
    "The Max Pooling layer  is used to reduce image size(height and width), reduce overfitting, and reduce computation."
   ]
  },
  {
   "cell_type": "code",
   "execution_count": 70,
   "metadata": {
    "colab": {
     "base_uri": "https://localhost:8080/"
    },
    "id": "qarr6to3YEmZ",
    "outputId": "31f8bd5e-9019-4dee-e684-6b03f2b6985e"
   },
   "outputs": [
    {
     "name": "stdout",
     "output_type": "stream",
     "text": [
      "torch.Size([32, 16, 112, 112])\n"
     ]
    }
   ],
   "source": [
    "# Checking the shape to confirm our Maxpooling intent\n",
    "max_pool_out = model(test_batch)\n",
    "max_pool_shape = max_pool_out.shape\n",
    "print(max_pool_shape)"
   ]
  },
  {
   "cell_type": "code",
   "execution_count": 71,
   "metadata": {
    "colab": {
     "base_uri": "https://localhost:8080/"
    },
    "id": "274L1t9mZ1Zc",
    "outputId": "3bd900af-6afa-4906-98a9-188714a92968"
   },
   "outputs": [
    {
     "data": {
      "text/plain": [
       "Sequential(\n",
       "  (0): Conv2d(3, 16, kernel_size=(3, 3), stride=(1, 1), padding=(1, 1))\n",
       "  (1): ReLU()\n",
       "  (2): MaxPool2d(kernel_size=(2, 2), stride=2, padding=0, dilation=1, ceil_mode=False)\n",
       "  (3): Conv2d(16, 32, kernel_size=(3, 3), stride=(1, 1), padding=(1, 1))\n",
       "  (4): ReLU()\n",
       "  (5): MaxPool2d(kernel_size=(2, 2), stride=2, padding=0, dilation=1, ceil_mode=False)\n",
       ")"
      ]
     },
     "execution_count": 71,
     "metadata": {},
     "output_type": "execute_result"
    }
   ],
   "source": [
    "# Layer 2\n",
    "conv2 = torch.nn.Conv2d(in_channels=16, out_channels=32, kernel_size=(3,3), padding=1)\n",
    "max_pool2 = torch.nn.MaxPool2d(kernel_size=(2,2), stride=2)\n",
    "model.append(conv2)\n",
    "model.append(torch.nn.ReLU())\n",
    "model.append(max_pool2)"
   ]
  },
  {
   "cell_type": "markdown",
   "metadata": {
    "id": "CsYtJu6CacyX"
   },
   "source": [
    " In the above layer, a convolution layer takes in our  16  channels from the previous layer and outputs  32  channels, with a  3  x  3  kernel and padding of  1 . Followed with a ReLU, and a max pool of size  2  x  2 ."
   ]
  },
  {
   "cell_type": "markdown",
   "metadata": {
    "id": "uV2XMt97eHgt"
   },
   "source": [
    "To once again verify the shape of the output"
   ]
  },
  {
   "cell_type": "markdown",
   "metadata": {
    "id": "XYDlITL7eJpG"
   },
   "source": []
  },
  {
   "cell_type": "code",
   "execution_count": 75,
   "metadata": {
    "colab": {
     "base_uri": "https://localhost:8080/"
    },
    "id": "h02JzibYaXwd",
    "outputId": "9a73ff60-0040-445a-b610-7b72fd038f61"
   },
   "outputs": [
    {
     "data": {
      "text/plain": [
       "torch.Size([32, 32, 56, 56])"
      ]
     },
     "execution_count": 75,
     "metadata": {},
     "output_type": "execute_result"
    }
   ],
   "source": [
    "second_set_out = model(test_batch)\n",
    "second_set_shape = second_set_out.shape\n",
    "second_set_shape"
   ]
  },
  {
   "cell_type": "code",
   "execution_count": 76,
   "metadata": {
    "colab": {
     "base_uri": "https://localhost:8080/"
    },
    "id": "Tgj_lhnzeiLt",
    "outputId": "2b7ddbb3-f382-4c26-9357-576268c56953"
   },
   "outputs": [
    {
     "data": {
      "text/plain": [
       "Sequential(\n",
       "  (0): Conv2d(3, 16, kernel_size=(3, 3), stride=(1, 1), padding=(1, 1))\n",
       "  (1): ReLU()\n",
       "  (2): MaxPool2d(kernel_size=(2, 2), stride=2, padding=0, dilation=1, ceil_mode=False)\n",
       "  (3): Conv2d(16, 32, kernel_size=(3, 3), stride=(1, 1), padding=(1, 1))\n",
       "  (4): ReLU()\n",
       "  (5): MaxPool2d(kernel_size=(2, 2), stride=2, padding=0, dilation=1, ceil_mode=False)\n",
       "  (6): Conv2d(32, 64, kernel_size=(3, 3), stride=(1, 1), padding=(1, 1))\n",
       "  (7): ReLU()\n",
       "  (8): MaxPool2d(kernel_size=2, stride=2, padding=0, dilation=1, ceil_mode=False)\n",
       ")"
      ]
     },
     "execution_count": 76,
     "metadata": {},
     "output_type": "execute_result"
    }
   ],
   "source": [
    "# Layer 3\n",
    "conv3 = torch.nn.Conv2d(32, 64, 3, padding=1)\n",
    "max_pool3 = torch.nn.MaxPool2d(2)\n",
    "model.append(conv3)\n",
    "model.append(torch.nn.ReLU())\n",
    "model.append(max_pool3)"
   ]
  },
  {
   "cell_type": "code",
   "execution_count": 77,
   "metadata": {
    "colab": {
     "base_uri": "https://localhost:8080/"
    },
    "id": "GWUzuWCofAyF",
    "outputId": "b21a1adf-8035-48f7-fb02-f1eed92df95a"
   },
   "outputs": [
    {
     "data": {
      "text/plain": [
       "torch.Size([32, 64, 28, 28])"
      ]
     },
     "execution_count": 77,
     "metadata": {},
     "output_type": "execute_result"
    }
   ],
   "source": [
    "third_set_out = model(test_batch)\n",
    "third_set_shape = third_set_out.shape\n",
    "third_set_shape"
   ]
  },
  {
   "cell_type": "markdown",
   "metadata": {
    "id": "R8NIpMMghEYF"
   },
   "source": [
    "We need an output layer with 53 neurons. That's a flat output, without the 3D structure of our images. PyTorch provides a Flatten layer for flattening."
   ]
  },
  {
   "cell_type": "code",
   "execution_count": 79,
   "metadata": {
    "colab": {
     "base_uri": "https://localhost:8080/"
    },
    "id": "p21NQFCafp3L",
    "outputId": "56750d41-8a52-4831-f19d-52692503a23b"
   },
   "outputs": [
    {
     "data": {
      "text/plain": [
       "Sequential(\n",
       "  (0): Conv2d(3, 16, kernel_size=(3, 3), stride=(1, 1), padding=(1, 1))\n",
       "  (1): ReLU()\n",
       "  (2): MaxPool2d(kernel_size=(2, 2), stride=2, padding=0, dilation=1, ceil_mode=False)\n",
       "  (3): Conv2d(16, 32, kernel_size=(3, 3), stride=(1, 1), padding=(1, 1))\n",
       "  (4): ReLU()\n",
       "  (5): MaxPool2d(kernel_size=(2, 2), stride=2, padding=0, dilation=1, ceil_mode=False)\n",
       "  (6): Conv2d(32, 64, kernel_size=(3, 3), stride=(1, 1), padding=(1, 1))\n",
       "  (7): ReLU()\n",
       "  (8): MaxPool2d(kernel_size=2, stride=2, padding=0, dilation=1, ceil_mode=False)\n",
       "  (9): Flatten(start_dim=1, end_dim=-1)\n",
       ")"
      ]
     },
     "execution_count": 79,
     "metadata": {},
     "output_type": "execute_result"
    }
   ],
   "source": [
    "model.append(torch.nn.Flatten())"
   ]
  },
  {
   "cell_type": "code",
   "execution_count": 80,
   "metadata": {
    "colab": {
     "base_uri": "https://localhost:8080/"
    },
    "id": "85g92Xk6hZdM",
    "outputId": "866e65fa-a93f-4749-9286-2ec3a0028b00"
   },
   "outputs": [
    {
     "data": {
      "text/plain": [
       "torch.Size([32, 50176])"
      ]
     },
     "execution_count": 80,
     "metadata": {},
     "output_type": "execute_result"
    }
   ],
   "source": [
    "# To compute current network output\n",
    "flat_out = model(test_batch)\n",
    "flat_shape = flat_out.shape\n",
    "flat_shape"
   ]
  },
  {
   "cell_type": "markdown",
   "metadata": {
    "id": "iLlgf15Xh4VI"
   },
   "source": [
    "Shape after flattening is 32 by 50176"
   ]
  },
  {
   "cell_type": "markdown",
   "metadata": {
    "id": "5XBqtxhgiQ2G"
   },
   "source": [
    "We could add a single layer and just go straight to our output  53  classes. But we'll get better performance by adding a few dense layers, Linear in PyTorch's terminology, first. For these layers, we need to tell it the size of the input, and how many neurons we want in the layer. Since the input is our previous layer, we tell it that size. We'll add a layer of  500  neurons"
   ]
  },
  {
   "cell_type": "code",
   "execution_count": 83,
   "metadata": {
    "colab": {
     "base_uri": "https://localhost:8080/"
    },
    "id": "LGg73hh0h3x0",
    "outputId": "ef39f2a9-ac98-4c2f-e779-bb4514e5cc88"
   },
   "outputs": [
    {
     "data": {
      "text/plain": [
       "Sequential(\n",
       "  (0): Conv2d(3, 16, kernel_size=(3, 3), stride=(1, 1), padding=(1, 1))\n",
       "  (1): ReLU()\n",
       "  (2): MaxPool2d(kernel_size=(2, 2), stride=2, padding=0, dilation=1, ceil_mode=False)\n",
       "  (3): Conv2d(16, 32, kernel_size=(3, 3), stride=(1, 1), padding=(1, 1))\n",
       "  (4): ReLU()\n",
       "  (5): MaxPool2d(kernel_size=(2, 2), stride=2, padding=0, dilation=1, ceil_mode=False)\n",
       "  (6): Conv2d(32, 64, kernel_size=(3, 3), stride=(1, 1), padding=(1, 1))\n",
       "  (7): ReLU()\n",
       "  (8): MaxPool2d(kernel_size=2, stride=2, padding=0, dilation=1, ceil_mode=False)\n",
       "  (9): Flatten(start_dim=1, end_dim=-1)\n",
       "  (10): Linear(in_features=50176, out_features=500, bias=True)\n",
       ")"
      ]
     },
     "execution_count": 83,
     "metadata": {},
     "output_type": "execute_result"
    }
   ],
   "source": [
    "linear1 = torch.nn.Linear(in_features=50176, out_features=500)\n",
    "\n",
    "model.append(linear1)"
   ]
  },
  {
   "cell_type": "code",
   "execution_count": 84,
   "metadata": {
    "colab": {
     "base_uri": "https://localhost:8080/"
    },
    "id": "46vaQ-tsh9oq",
    "outputId": "ef1b8281-5267-4aa6-a480-a2c3653ea7b6"
   },
   "outputs": [
    {
     "data": {
      "text/plain": [
       "Sequential(\n",
       "  (0): Conv2d(3, 16, kernel_size=(3, 3), stride=(1, 1), padding=(1, 1))\n",
       "  (1): ReLU()\n",
       "  (2): MaxPool2d(kernel_size=(2, 2), stride=2, padding=0, dilation=1, ceil_mode=False)\n",
       "  (3): Conv2d(16, 32, kernel_size=(3, 3), stride=(1, 1), padding=(1, 1))\n",
       "  (4): ReLU()\n",
       "  (5): MaxPool2d(kernel_size=(2, 2), stride=2, padding=0, dilation=1, ceil_mode=False)\n",
       "  (6): Conv2d(32, 64, kernel_size=(3, 3), stride=(1, 1), padding=(1, 1))\n",
       "  (7): ReLU()\n",
       "  (8): MaxPool2d(kernel_size=2, stride=2, padding=0, dilation=1, ceil_mode=False)\n",
       "  (9): Flatten(start_dim=1, end_dim=-1)\n",
       "  (10): Linear(in_features=50176, out_features=500, bias=True)\n",
       "  (11): ReLU()\n",
       ")"
      ]
     },
     "execution_count": 84,
     "metadata": {},
     "output_type": "execute_result"
    }
   ],
   "source": [
    "# Adding the ReLU function\n",
    "model.append(torch.nn.ReLU())"
   ]
  },
  {
   "cell_type": "code",
   "execution_count": 85,
   "metadata": {
    "colab": {
     "base_uri": "https://localhost:8080/"
    },
    "id": "YVtf5y1sinaM",
    "outputId": "06ff8381-a9d9-410b-8c48-333aed04548e"
   },
   "outputs": [
    {
     "data": {
      "text/plain": [
       "torch.Size([32, 500])"
      ]
     },
     "execution_count": 85,
     "metadata": {},
     "output_type": "execute_result"
    }
   ],
   "source": [
    "linear_out = model(test_batch)\n",
    "linear_shape = linear_out.shape\n",
    "linear_shape"
   ]
  },
  {
   "cell_type": "code",
   "execution_count": 86,
   "metadata": {
    "colab": {
     "base_uri": "https://localhost:8080/"
    },
    "id": "zZ3y8qKei81N",
    "outputId": "a909225d-b195-4c40-a6ef-98c8b1b17011"
   },
   "outputs": [
    {
     "data": {
      "text/plain": [
       "Sequential(\n",
       "  (0): Conv2d(3, 16, kernel_size=(3, 3), stride=(1, 1), padding=(1, 1))\n",
       "  (1): ReLU()\n",
       "  (2): MaxPool2d(kernel_size=(2, 2), stride=2, padding=0, dilation=1, ceil_mode=False)\n",
       "  (3): Conv2d(16, 32, kernel_size=(3, 3), stride=(1, 1), padding=(1, 1))\n",
       "  (4): ReLU()\n",
       "  (5): MaxPool2d(kernel_size=(2, 2), stride=2, padding=0, dilation=1, ceil_mode=False)\n",
       "  (6): Conv2d(32, 64, kernel_size=(3, 3), stride=(1, 1), padding=(1, 1))\n",
       "  (7): ReLU()\n",
       "  (8): MaxPool2d(kernel_size=2, stride=2, padding=0, dilation=1, ceil_mode=False)\n",
       "  (9): Flatten(start_dim=1, end_dim=-1)\n",
       "  (10): Linear(in_features=50176, out_features=500, bias=True)\n",
       "  (11): ReLU()\n",
       "  (12): Linear(in_features=500, out_features=53, bias=True)\n",
       ")"
      ]
     },
     "execution_count": 86,
     "metadata": {},
     "output_type": "execute_result"
    }
   ],
   "source": [
    "# The dense output layer\n",
    "output_layer = torch.nn.Linear(in_features=500, out_features=53)\n",
    "\n",
    "model.append(output_layer)"
   ]
  },
  {
   "cell_type": "code",
   "execution_count": 87,
   "metadata": {
    "colab": {
     "base_uri": "https://localhost:8080/"
    },
    "id": "g3pTuIAxjPO5",
    "outputId": "58e6ba04-50c1-495a-84b4-9df2b3d7031f"
   },
   "outputs": [
    {
     "data": {
      "text/plain": [
       "torch.Size([32, 53])"
      ]
     },
     "execution_count": 87,
     "metadata": {},
     "output_type": "execute_result"
    }
   ],
   "source": [
    "# Final check\n",
    "model(test_batch).shape"
   ]
  },
  {
   "cell_type": "code",
   "execution_count": 88,
   "metadata": {
    "colab": {
     "base_uri": "https://localhost:8080/"
    },
    "id": "z0hDwG2Wjcze",
    "outputId": "907be7a9-ca27-4250-8934-c6bccccc0d98"
   },
   "outputs": [
    {
     "data": {
      "text/plain": [
       "==========================================================================================\n",
       "Layer (type:depth-idx)                   Output Shape              Param #\n",
       "==========================================================================================\n",
       "Sequential                               [32, 53]                  --\n",
       "├─Conv2d: 1-1                            [32, 16, 224, 224]        448\n",
       "├─ReLU: 1-2                              [32, 16, 224, 224]        --\n",
       "├─MaxPool2d: 1-3                         [32, 16, 112, 112]        --\n",
       "├─Conv2d: 1-4                            [32, 32, 112, 112]        4,640\n",
       "├─ReLU: 1-5                              [32, 32, 112, 112]        --\n",
       "├─MaxPool2d: 1-6                         [32, 32, 56, 56]          --\n",
       "├─Conv2d: 1-7                            [32, 64, 56, 56]          18,496\n",
       "├─ReLU: 1-8                              [32, 64, 56, 56]          --\n",
       "├─MaxPool2d: 1-9                         [32, 64, 28, 28]          --\n",
       "├─Flatten: 1-10                          [32, 50176]               --\n",
       "├─Linear: 1-11                           [32, 500]                 25,088,500\n",
       "├─ReLU: 1-12                             [32, 500]                 --\n",
       "├─Linear: 1-13                           [32, 53]                  26,553\n",
       "==========================================================================================\n",
       "Total params: 25,138,637\n",
       "Trainable params: 25,138,637\n",
       "Non-trainable params: 0\n",
       "Total mult-adds (Units.GIGABYTES): 5.24\n",
       "==========================================================================================\n",
       "Input size (MB): 19.27\n",
       "Forward/backward pass size (MB): 359.80\n",
       "Params size (MB): 100.55\n",
       "Estimated Total Size (MB): 479.63\n",
       "=========================================================================================="
      ]
     },
     "execution_count": 88,
     "metadata": {},
     "output_type": "execute_result"
    }
   ],
   "source": [
    "# To Make sure the model is correct, we use Pytorch's summary\n",
    "from torchinfo import summary\n",
    "height, width = 224, 224\n",
    "summary(model, input_size=(batch_size, 3, height, width))"
   ]
  },
  {
   "cell_type": "code",
   "execution_count": 89,
   "metadata": {
    "id": "2iP20MIkk3pW"
   },
   "outputs": [
    {
     "data": {
      "text/plain": [
       "Sequential(\n",
       "  (0): Conv2d(3, 16, kernel_size=(3, 3), stride=(1, 1), padding=(1, 1))\n",
       "  (1): ReLU()\n",
       "  (2): MaxPool2d(kernel_size=(2, 2), stride=2, padding=0, dilation=1, ceil_mode=False)\n",
       "  (3): Conv2d(16, 32, kernel_size=(3, 3), stride=(1, 1), padding=(1, 1))\n",
       "  (4): ReLU()\n",
       "  (5): MaxPool2d(kernel_size=(2, 2), stride=2, padding=0, dilation=1, ceil_mode=False)\n",
       "  (6): Conv2d(32, 64, kernel_size=(3, 3), stride=(1, 1), padding=(1, 1))\n",
       "  (7): ReLU()\n",
       "  (8): MaxPool2d(kernel_size=2, stride=2, padding=0, dilation=1, ceil_mode=False)\n",
       "  (9): Flatten(start_dim=1, end_dim=-1)\n",
       "  (10): Linear(in_features=50176, out_features=500, bias=True)\n",
       "  (11): ReLU()\n",
       "  (12): Linear(in_features=500, out_features=53, bias=True)\n",
       ")"
      ]
     },
     "execution_count": 89,
     "metadata": {},
     "output_type": "execute_result"
    }
   ],
   "source": [
    "# i'll now define my optimsiser and loss fn\n",
    "import torch.optim as optim\n",
    "loss_fn = torch.nn.CrossEntropyLoss()\n",
    "optimizer = optim.Adam(model.parameters(), lr=0.0001)\n",
    "model.to(device)"
   ]
  },
  {
   "cell_type": "markdown",
   "metadata": {},
   "source": [
    "## Now to train the model"
   ]
  },
  {
   "cell_type": "markdown",
   "metadata": {},
   "source": [
    "### Training Function"
   ]
  },
  {
   "cell_type": "code",
   "execution_count": 92,
   "metadata": {},
   "outputs": [],
   "source": [
    "def train(model, train_loader, val_loader, loss_fn, optimizer, device, epochs):\n",
    "    model.to(device)\n",
    "    \n",
    "    for epoch in range(epochs):\n",
    "        model.train()\n",
    "        training_loss = 0.0\n",
    "        train_correct = 0\n",
    "        train_total = 0\n",
    "\n",
    "        for inputs, labels in tqdm(train_loader, desc=f\"Training Epoch {epoch+1}/{epochs}\", leave=False):\n",
    "            inputs, labels = inputs.to(device), labels.to(device)\n",
    "\n",
    "            optimizer.zero_grad()\n",
    "            outputs = model(inputs)\n",
    "            loss = loss_fn(outputs, labels)\n",
    "            loss.backward()\n",
    "            optimizer.step()\n",
    "\n",
    "            training_loss += loss.item() * inputs.size(0)\n",
    "            preds = outputs.argmax(dim=1)\n",
    "            train_correct += (preds == labels).sum().item()\n",
    "            train_total += labels.size(0)\n",
    "\n",
    "        avg_train_loss = training_loss / len(train_loader.dataset)\n",
    "        train_accuracy = train_correct / train_total * 100\n",
    "\n",
    "        # Validation loop\n",
    "        model.eval()\n",
    "        val_loss = 0.0\n",
    "        val_correct = 0\n",
    "        val_total = 0\n",
    "\n",
    "        with torch.no_grad():\n",
    "            for inputs, labels in val_loader:\n",
    "                inputs, labels = inputs.to(device), labels.to(device)\n",
    "                outputs = model(inputs)\n",
    "                loss = loss_fn(outputs, labels)\n",
    "                val_loss += loss.item() * inputs.size(0)\n",
    "\n",
    "                preds = outputs.argmax(dim=1)\n",
    "                val_correct += (preds == labels).sum().item()\n",
    "                val_total += labels.size(0)\n",
    "\n",
    "        avg_val_loss = val_loss / len(val_loader.dataset)\n",
    "        val_accuracy = val_correct / val_total * 100\n",
    "\n",
    "        print(\n",
    "            f\"Epoch {epoch+1}/{epochs} \"\n",
    "            f\"- Train Loss: {avg_train_loss:.4f} | Train Acc: {train_accuracy:.2f}% \"\n",
    "            f\"- Val Loss: {avg_val_loss:.4f} | Val Acc: {val_accuracy:.2f}%\"\n",
    "        )"
   ]
  },
  {
   "cell_type": "code",
   "execution_count": 93,
   "metadata": {},
   "outputs": [
    {
     "data": {
      "application/vnd.jupyter.widget-view+json": {
       "model_id": "",
       "version_major": 2,
       "version_minor": 0
      },
      "text/plain": [
       "Training Epoch 1/3:   0%|          | 0/179 [00:00<?, ?it/s]"
      ]
     },
     "metadata": {},
     "output_type": "display_data"
    },
    {
     "name": "stdout",
     "output_type": "stream",
     "text": [
      "Epoch 1/3 - Train Loss: 3.2089 | Train Acc: 19.15% - Val Loss: 2.5354 | Val Acc: 32.48%\n"
     ]
    },
    {
     "data": {
      "application/vnd.jupyter.widget-view+json": {
       "model_id": "",
       "version_major": 2,
       "version_minor": 0
      },
      "text/plain": [
       "Training Epoch 2/3:   0%|          | 0/179 [00:00<?, ?it/s]"
      ]
     },
     "metadata": {},
     "output_type": "display_data"
    },
    {
     "name": "stdout",
     "output_type": "stream",
     "text": [
      "Epoch 2/3 - Train Loss: 2.0390 | Train Acc: 45.38% - Val Loss: 2.0108 | Val Acc: 45.59%\n"
     ]
    },
    {
     "data": {
      "application/vnd.jupyter.widget-view+json": {
       "model_id": "",
       "version_major": 2,
       "version_minor": 0
      },
      "text/plain": [
       "Training Epoch 3/3:   0%|          | 0/179 [00:00<?, ?it/s]"
      ]
     },
     "metadata": {},
     "output_type": "display_data"
    },
    {
     "name": "stdout",
     "output_type": "stream",
     "text": [
      "Epoch 3/3 - Train Loss: 1.3910 | Train Acc: 62.71% - Val Loss: 1.9298 | Val Acc: 50.21%\n"
     ]
    }
   ],
   "source": [
    "train(model, train_loader, val_loader, loss_fn, optimizer, device, epochs=3)"
   ]
  },
  {
   "cell_type": "markdown",
   "metadata": {},
   "source": [
    "### Predict Function"
   ]
  },
  {
   "cell_type": "code",
   "execution_count": 95,
   "metadata": {},
   "outputs": [],
   "source": [
    "import torch.nn.functional as F\n",
    "def predict(model, dataloader, device):\n",
    "    model.eval()\n",
    "    all_probs = torch.tensor([]).to(device)\n",
    "    with torch.no_grad():\n",
    "        for inputs, targets in tqdm(dataloader, desc=\"Predicting\", leave=False):\n",
    "            inputs = inputs.to(device)\n",
    "            output = model(inputs)\n",
    "            probs = F.softmax(output, dim=1)\n",
    "            all_probs = torch.cat((all_probs, probs), dim=0)\n",
    "    return all_probs"
   ]
  },
  {
   "cell_type": "markdown",
   "metadata": {},
   "source": [
    "### Calculating the predictions for the validation set."
   ]
  },
  {
   "cell_type": "code",
   "execution_count": 97,
   "metadata": {},
   "outputs": [
    {
     "data": {
      "application/vnd.jupyter.widget-view+json": {
       "model_id": "",
       "version_major": 2,
       "version_minor": 0
      },
      "text/plain": [
       "Predicting:   0%|          | 0/60 [00:00<?, ?it/s]"
      ]
     },
     "metadata": {},
     "output_type": "display_data"
    }
   ],
   "source": [
    "probabilities = predict(model, val_loader, device)\n",
    "predictions = torch.argmax(probabilities, dim=1) # dim=1 gives largest index and pick the largest along the columns"
   ]
  },
  {
   "cell_type": "markdown",
   "metadata": {},
   "source": [
    "# Testing The Model"
   ]
  },
  {
   "cell_type": "markdown",
   "metadata": {},
   "source": [
    "Using an image from the test data to test the model"
   ]
  },
  {
   "cell_type": "code",
   "execution_count": 100,
   "metadata": {},
   "outputs": [
    {
     "data": {
      "image/jpeg": "[encoded data removed]",
      "image/png": "[encoded data removed]",
      "text/plain": [
       "<PIL.JpegImagePlugin.JpegImageFile image mode=RGB size=224x224>"
      ]
     },
     "execution_count": 100,
     "metadata": {},
     "output_type": "execute_result"
    }
   ],
   "source": [
    "import PIL\n",
    "img = r'C:\\Users\\hp\\Documents\\Datasets\\images\\cards\\test\\ace of diamonds\\1.jpg'\n",
    "test_image = PIL.Image.open(img)\n",
    "test_image"
   ]
  },
  {
   "cell_type": "code",
   "execution_count": 101,
   "metadata": {},
   "outputs": [
    {
     "data": {
      "text/plain": [
       "torch.Size([3, 224, 224])"
      ]
     },
     "execution_count": 101,
     "metadata": {},
     "output_type": "execute_result"
    }
   ],
   "source": [
    "test_image_transformed = transform_norm(test_image)\n",
    "test_image_transformed.shape"
   ]
  },
  {
   "cell_type": "markdown",
   "metadata": {},
   "source": [
    "The model expects a batch input, so for a single image, an extra dimension will be added to make it 1 x 3 x 224 x 224. unsqueeze(0) does this easily."
   ]
  },
  {
   "cell_type": "code",
   "execution_count": 103,
   "metadata": {},
   "outputs": [
    {
     "data": {
      "text/plain": [
       "torch.Size([1, 3, 224, 224])"
      ]
     },
     "execution_count": 103,
     "metadata": {},
     "output_type": "execute_result"
    }
   ],
   "source": [
    "test_unsq = test_image_transformed.unsqueeze(0)\n",
    "test_unsq.shape"
   ]
  },
  {
   "cell_type": "code",
   "execution_count": 104,
   "metadata": {},
   "outputs": [
    {
     "data": {
      "text/plain": [
       "tensor([[ 1.5974,  6.8542,  6.1656,  2.7855, -3.4461,  5.0440,  4.9771, -0.3989,\n",
       "         -1.5628,  1.1031,  1.9131, -0.6779, -0.6476,  1.0629,  1.2315,  2.7645,\n",
       "         -3.6809, -0.9394, -0.3758, -2.7683, -1.7455, -2.6499, -2.7072, -1.2368,\n",
       "         -3.5970, -4.7970, -0.3880, -1.5873, -5.3950, -1.4947,  1.7982, -0.1118,\n",
       "         -2.3678, -1.0817,  2.1325,  1.4653, -2.8368,  0.6361,  1.9983, -0.3592,\n",
       "          0.4286, -3.4912, -0.0190, -3.2304, -3.9021, -1.6014,  3.1998,  2.5802,\n",
       "         -1.4147, -1.9933,  2.1451,  0.4732, -2.7283]],\n",
       "       grad_fn=<AddmmBackward0>)"
      ]
     },
     "execution_count": 104,
     "metadata": {},
     "output_type": "execute_result"
    }
   ],
   "source": [
    "# Running the model on this\n",
    "test_image_cuda = test_unsq.to(device)\n",
    "test_out = model(test_image_cuda)\n",
    "test_out"
   ]
  },
  {
   "cell_type": "code",
   "execution_count": 105,
   "metadata": {},
   "outputs": [
    {
     "data": {
      "text/plain": [
       "tensor([[2.6513e-03, 5.0869e-01, 2.5549e-01, 8.6980e-03, 1.7104e-05, 8.3229e-02,\n",
       "         7.7842e-02, 3.6015e-04, 1.1246e-04, 1.6173e-03, 3.6355e-03, 2.7246e-04,\n",
       "         2.8084e-04, 1.5535e-03, 1.8387e-03, 8.5176e-03, 1.3524e-05, 2.0976e-04,\n",
       "         3.6855e-04, 3.3684e-05, 9.3675e-05, 3.7920e-05, 3.5808e-05, 1.5580e-04,\n",
       "         1.4708e-05, 4.4299e-06, 3.6409e-04, 1.0974e-04, 2.4359e-06, 1.2038e-04,\n",
       "         3.2409e-03, 4.7989e-04, 5.0277e-05, 1.8194e-04, 4.5274e-03, 2.3232e-03,\n",
       "         3.1454e-05, 1.0138e-03, 3.9585e-03, 3.7472e-04, 8.2380e-04, 1.6349e-05,\n",
       "         5.2656e-04, 2.1220e-05, 1.0841e-05, 1.0820e-04, 1.3163e-02, 7.0837e-03,\n",
       "         1.3041e-04, 7.3120e-05, 4.5845e-03, 8.6139e-04, 3.5062e-05]],\n",
       "       grad_fn=<SoftmaxBackward0>)"
      ]
     },
     "execution_count": 105,
     "metadata": {},
     "output_type": "execute_result"
    }
   ],
   "source": [
    "# running it through a SoftMax\n",
    "test_softmax = torch.nn.functional.softmax(test_out, dim=1)\n",
    "test_softmax"
   ]
  },
  {
   "cell_type": "code",
   "execution_count": 106,
   "metadata": {},
   "outputs": [
    {
     "data": {
      "text/html": [
       "<div>\n",
       "<style scoped>\n",
       "    .dataframe tbody tr th:only-of-type {\n",
       "        vertical-align: middle;\n",
       "    }\n",
       "\n",
       "    .dataframe tbody tr th {\n",
       "        vertical-align: top;\n",
       "    }\n",
       "\n",
       "    .dataframe thead th {\n",
       "        text-align: right;\n",
       "    }\n",
       "</style>\n",
       "<table border=\"1\" class=\"dataframe\">\n",
       "  <thead>\n",
       "    <tr style=\"text-align: right;\">\n",
       "      <th></th>\n",
       "      <th>ace of clubs</th>\n",
       "      <th>ace of diamonds</th>\n",
       "      <th>ace of hearts</th>\n",
       "      <th>ace of spades</th>\n",
       "      <th>eight of clubs</th>\n",
       "      <th>eight of diamonds</th>\n",
       "      <th>eight of hearts</th>\n",
       "      <th>eight of spades</th>\n",
       "      <th>five of clubs</th>\n",
       "      <th>five of diamonds</th>\n",
       "      <th>...</th>\n",
       "      <th>ten of hearts</th>\n",
       "      <th>ten of spades</th>\n",
       "      <th>three of clubs</th>\n",
       "      <th>three of diamonds</th>\n",
       "      <th>three of hearts</th>\n",
       "      <th>three of spades</th>\n",
       "      <th>two of clubs</th>\n",
       "      <th>two of diamonds</th>\n",
       "      <th>two of hearts</th>\n",
       "      <th>two of spades</th>\n",
       "    </tr>\n",
       "  </thead>\n",
       "  <tbody>\n",
       "    <tr>\n",
       "      <th>0</th>\n",
       "      <td>0.002651</td>\n",
       "      <td>0.508695</td>\n",
       "      <td>0.255495</td>\n",
       "      <td>0.008698</td>\n",
       "      <td>0.000017</td>\n",
       "      <td>0.083229</td>\n",
       "      <td>0.077842</td>\n",
       "      <td>0.00036</td>\n",
       "      <td>0.000112</td>\n",
       "      <td>0.001617</td>\n",
       "      <td>...</td>\n",
       "      <td>0.000021</td>\n",
       "      <td>0.000011</td>\n",
       "      <td>0.000108</td>\n",
       "      <td>0.013163</td>\n",
       "      <td>0.007084</td>\n",
       "      <td>0.00013</td>\n",
       "      <td>0.000073</td>\n",
       "      <td>0.004584</td>\n",
       "      <td>0.000861</td>\n",
       "      <td>0.000035</td>\n",
       "    </tr>\n",
       "  </tbody>\n",
       "</table>\n",
       "<p>1 rows × 53 columns</p>\n",
       "</div>"
      ],
      "text/plain": [
       "   ace of clubs  ace of diamonds  ace of hearts  ace of spades  \\\n",
       "0      0.002651         0.508695       0.255495       0.008698   \n",
       "\n",
       "   eight of clubs  eight of diamonds  eight of hearts  eight of spades  \\\n",
       "0        0.000017           0.083229         0.077842          0.00036   \n",
       "\n",
       "   five of clubs  five of diamonds  ...  ten of hearts  ten of spades  \\\n",
       "0       0.000112          0.001617  ...       0.000021       0.000011   \n",
       "\n",
       "   three of clubs  three of diamonds  three of hearts  three of spades  \\\n",
       "0        0.000108           0.013163         0.007084          0.00013   \n",
       "\n",
       "   two of clubs  two of diamonds  two of hearts  two of spades  \n",
       "0      0.000073         0.004584       0.000861       0.000035  \n",
       "\n",
       "[1 rows x 53 columns]"
      ]
     },
     "execution_count": 106,
     "metadata": {},
     "output_type": "execute_result"
    }
   ],
   "source": [
    "# Convert the prediction tensor to a list, then create a DataFrame with columns named after the dataset classes, ensuring the order matches.\n",
    "test_df = pd.DataFrame(test_softmax.tolist())\n",
    "test_df.columns = dataset.classes\n",
    "test_df"
   ]
  },
  {
   "cell_type": "code",
   "execution_count": 107,
   "metadata": {},
   "outputs": [],
   "source": [
    "# Wrapping it all in a function\n",
    "def file_to_conf(path):\n",
    "    image = PIL.Image.open(path)\n",
    "    transformed = transform_norm(image)\n",
    "    unsqueezed = transformed.unsqueeze(0)\n",
    "    image_cuda = unsqueezed.to(device)\n",
    "\n",
    "    model.eval()\n",
    "    with torch.no_grad():\n",
    "        model_raw = model(image_cuda)\n",
    "        confidence = torch.nn.functional.softmax(model_raw, dim=1)\n",
    "\n",
    "    conf_df = pd.DataFrame(confidence.tolist())\n",
    "    conf_df.columns = dataset.classes\n",
    "    \n",
    "    return conf_df"
   ]
  },
  {
   "cell_type": "code",
   "execution_count": 108,
   "metadata": {},
   "outputs": [
    {
     "name": "stdout",
     "output_type": "stream",
     "text": [
      "Predicted class: four of clubs (0.98)\n"
     ]
    }
   ],
   "source": [
    "conf_df = file_to_conf(r'C:\\Users\\hp\\Documents\\Datasets\\images\\cards\\test\\four of clubs\\5.jpg')\n",
    "\n",
    "pred_class = conf_df.iloc[0].idxmax()\n",
    "conf_score = conf_df.iloc[0].max()\n",
    "\n",
    "print(f\"Predicted class: {pred_class} ({conf_score:.2f})\")"
   ]
  },
  {
   "cell_type": "code",
   "execution_count": 109,
   "metadata": {},
   "outputs": [],
   "source": [
    "# Savin the model\n",
    "import os\n",
    "os.makedirs(\"model\", exist_ok=True)\n",
    "\n",
    "torch.save(model.state_dict(), \"model/deepnet.pth\")"
   ]
  },
  {
   "cell_type": "code",
   "execution_count": 110,
   "metadata": {},
   "outputs": [
    {
     "name": "stdout",
     "output_type": "stream",
     "text": [
      "Predicted class: seven of hearts (0.61)\n",
      "Predicted class: seven of hearts (0.64)\n",
      "Predicted class: ace of clubs (0.79)\n"
     ]
    }
   ],
   "source": [
    "# These cards were downloaded from the internet to test the model\n",
    "cards = [\n",
    "    r'C:\\Users\\hp\\Downloads\\sevenhearts3.jpg',\n",
    "    r'C:\\Users\\hp\\Downloads\\sevenhearts.jpg',\n",
    "    r'C:\\Users\\hp\\Downloads\\aceclubs.jpg'\n",
    "    \n",
    "]\n",
    "\n",
    "for card in cards:\n",
    "    conf_df = file_to_conf(card)\n",
    "    pred_class = conf_df.iloc[0].idxmax()\n",
    "    conf_score = conf_df.iloc[0].max()\n",
    "    print(f\"Predicted class: {pred_class} ({conf_score:.2f})\")"
   ]
  }
 ],
 "metadata": {
  "colab": {
   "provenance": []
  },
  "kernelspec": {
   "display_name": "Python [conda env:base] *",
   "language": "python",
   "name": "conda-base-py"
  },
  "language_info": {
   "codemirror_mode": {
    "name": "ipython",
    "version": 3
   },
   "file_extension": ".py",
   "mimetype": "text/x-python",
   "name": "python",
   "nbconvert_exporter": "python",
   "pygments_lexer": "ipython3",
   "version": "3.11.7"
  },
  "widgets": {
   "application/vnd.jupyter.widget-state+json": {
    "02dfd3a01c8f43e4b39ab2b5b5168b5e": {
     "model_module": "@jupyter-widgets/base",
     "model_module_version": "1.2.0",
     "model_name": "LayoutModel",
     "state": {
      "_model_module": "@jupyter-widgets/base",
      "_model_module_version": "1.2.0",
      "_model_name": "LayoutModel",
      "_view_count": null,
      "_view_module": "@jupyter-widgets/base",
      "_view_module_version": "1.2.0",
      "_view_name": "LayoutView",
      "align_content": null,
      "align_items": null,
      "align_self": null,
      "border": null,
      "bottom": null,
      "display": null,
      "flex": null,
      "flex_flow": null,
      "grid_area": null,
      "grid_auto_columns": null,
      "grid_auto_flow": null,
      "grid_auto_rows": null,
      "grid_column": null,
      "grid_gap": null,
      "grid_row": null,
      "grid_template_areas": null,
      "grid_template_columns": null,
      "grid_template_rows": null,
      "height": null,
      "justify_content": null,
      "justify_items": null,
      "left": null,
      "margin": null,
      "max_height": null,
      "max_width": null,
      "min_height": null,
      "min_width": null,
      "object_fit": null,
      "object_position": null,
      "order": null,
      "overflow": null,
      "overflow_x": null,
      "overflow_y": null,
      "padding": null,
      "right": null,
      "top": null,
      "visibility": null,
      "width": null
     }
    },
    "0f69d005c1c042529eaf6d7520592358": {
     "model_module": "@jupyter-widgets/base",
     "model_module_version": "1.2.0",
     "model_name": "LayoutModel",
     "state": {
      "_model_module": "@jupyter-widgets/base",
      "_model_module_version": "1.2.0",
      "_model_name": "LayoutModel",
      "_view_count": null,
      "_view_module": "@jupyter-widgets/base",
      "_view_module_version": "1.2.0",
      "_view_name": "LayoutView",
      "align_content": null,
      "align_items": null,
      "align_self": null,
      "border": null,
      "bottom": null,
      "display": null,
      "flex": null,
      "flex_flow": null,
      "grid_area": null,
      "grid_auto_columns": null,
      "grid_auto_flow": null,
      "grid_auto_rows": null,
      "grid_column": null,
      "grid_gap": null,
      "grid_row": null,
      "grid_template_areas": null,
      "grid_template_columns": null,
      "grid_template_rows": null,
      "height": null,
      "justify_content": null,
      "justify_items": null,
      "left": null,
      "margin": null,
      "max_height": null,
      "max_width": null,
      "min_height": null,
      "min_width": null,
      "object_fit": null,
      "object_position": null,
      "order": null,
      "overflow": null,
      "overflow_x": null,
      "overflow_y": null,
      "padding": null,
      "right": null,
      "top": null,
      "visibility": null,
      "width": null
     }
    },
    "1ff0fd78673e48ddad1fbc2e693b5839": {
     "model_module": "@jupyter-widgets/controls",
     "model_module_version": "1.5.0",
     "model_name": "DescriptionStyleModel",
     "state": {
      "_model_module": "@jupyter-widgets/controls",
      "_model_module_version": "1.5.0",
      "_model_name": "DescriptionStyleModel",
      "_view_count": null,
      "_view_module": "@jupyter-widgets/base",
      "_view_module_version": "1.2.0",
      "_view_name": "StyleView",
      "description_width": ""
     }
    },
    "2db3d332ef3745f59989e7f899e56845": {
     "model_module": "@jupyter-widgets/base",
     "model_module_version": "1.2.0",
     "model_name": "LayoutModel",
     "state": {
      "_model_module": "@jupyter-widgets/base",
      "_model_module_version": "1.2.0",
      "_model_name": "LayoutModel",
      "_view_count": null,
      "_view_module": "@jupyter-widgets/base",
      "_view_module_version": "1.2.0",
      "_view_name": "LayoutView",
      "align_content": null,
      "align_items": null,
      "align_self": null,
      "border": null,
      "bottom": null,
      "display": null,
      "flex": null,
      "flex_flow": null,
      "grid_area": null,
      "grid_auto_columns": null,
      "grid_auto_flow": null,
      "grid_auto_rows": null,
      "grid_column": null,
      "grid_gap": null,
      "grid_row": null,
      "grid_template_areas": null,
      "grid_template_columns": null,
      "grid_template_rows": null,
      "height": null,
      "justify_content": null,
      "justify_items": null,
      "left": null,
      "margin": null,
      "max_height": null,
      "max_width": null,
      "min_height": null,
      "min_width": null,
      "object_fit": null,
      "object_position": null,
      "order": null,
      "overflow": null,
      "overflow_x": null,
      "overflow_y": null,
      "padding": null,
      "right": null,
      "top": null,
      "visibility": null,
      "width": null
     }
    },
    "556bed9f13ae47a9868271bc17b5e4e4": {
     "model_module": "@jupyter-widgets/controls",
     "model_module_version": "1.5.0",
     "model_name": "HTMLModel",
     "state": {
      "_dom_classes": [],
      "_model_module": "@jupyter-widgets/controls",
      "_model_module_version": "1.5.0",
      "_model_name": "HTMLModel",
      "_view_count": null,
      "_view_module": "@jupyter-widgets/controls",
      "_view_module_version": "1.5.0",
      "_view_name": "HTMLView",
      "description": "",
      "description_tooltip": null,
      "layout": "IPY_MODEL_989f3347208d4d43b898f1c13f266fab",
      "placeholder": "​",
      "style": "IPY_MODEL_a2cc90ee5eb14b609bcdd85845bdc76d",
      "value": " 1907/1907 [04:23&lt;00:00,  9.71it/s]"
     }
    },
    "59b1e076b41e4b0e93ab451523e286b0": {
     "model_module": "@jupyter-widgets/controls",
     "model_module_version": "1.5.0",
     "model_name": "HTMLModel",
     "state": {
      "_dom_classes": [],
      "_model_module": "@jupyter-widgets/controls",
      "_model_module_version": "1.5.0",
      "_model_name": "HTMLModel",
      "_view_count": null,
      "_view_module": "@jupyter-widgets/controls",
      "_view_module_version": "1.5.0",
      "_view_name": "HTMLView",
      "description": "",
      "description_tooltip": null,
      "layout": "IPY_MODEL_b10bcb6bf6714a458ed526a3a0ba4e90",
      "placeholder": "​",
      "style": "IPY_MODEL_977957d1b1d14ed8bfd2fa223800cc10",
      "value": "100%"
     }
    },
    "6a187cfc5d374f2986c35eeb5873ccc6": {
     "model_module": "@jupyter-widgets/controls",
     "model_module_version": "1.5.0",
     "model_name": "FloatProgressModel",
     "state": {
      "_dom_classes": [],
      "_model_module": "@jupyter-widgets/controls",
      "_model_module_version": "1.5.0",
      "_model_name": "FloatProgressModel",
      "_view_count": null,
      "_view_module": "@jupyter-widgets/controls",
      "_view_module_version": "1.5.0",
      "_view_name": "ProgressView",
      "bar_style": "success",
      "description": "",
      "description_tooltip": null,
      "layout": "IPY_MODEL_2db3d332ef3745f59989e7f899e56845",
      "max": 1907,
      "min": 0,
      "orientation": "horizontal",
      "style": "IPY_MODEL_e991c1150d9d4352bc01526c438e3976",
      "value": 1907
     }
    },
    "6ac532b706854a13a3133f067940a961": {
     "model_module": "@jupyter-widgets/base",
     "model_module_version": "1.2.0",
     "model_name": "LayoutModel",
     "state": {
      "_model_module": "@jupyter-widgets/base",
      "_model_module_version": "1.2.0",
      "_model_name": "LayoutModel",
      "_view_count": null,
      "_view_module": "@jupyter-widgets/base",
      "_view_module_version": "1.2.0",
      "_view_name": "LayoutView",
      "align_content": null,
      "align_items": null,
      "align_self": null,
      "border": null,
      "bottom": null,
      "display": null,
      "flex": null,
      "flex_flow": null,
      "grid_area": null,
      "grid_auto_columns": null,
      "grid_auto_flow": null,
      "grid_auto_rows": null,
      "grid_column": null,
      "grid_gap": null,
      "grid_row": null,
      "grid_template_areas": null,
      "grid_template_columns": null,
      "grid_template_rows": null,
      "height": null,
      "justify_content": null,
      "justify_items": null,
      "left": null,
      "margin": null,
      "max_height": null,
      "max_width": null,
      "min_height": null,
      "min_width": null,
      "object_fit": null,
      "object_position": null,
      "order": null,
      "overflow": null,
      "overflow_x": null,
      "overflow_y": null,
      "padding": null,
      "right": null,
      "top": null,
      "visibility": null,
      "width": null
     }
    },
    "6b6adb788fc740d0ba226b64a3dae57b": {
     "model_module": "@jupyter-widgets/controls",
     "model_module_version": "1.5.0",
     "model_name": "FloatProgressModel",
     "state": {
      "_dom_classes": [],
      "_model_module": "@jupyter-widgets/controls",
      "_model_module_version": "1.5.0",
      "_model_name": "FloatProgressModel",
      "_view_count": null,
      "_view_module": "@jupyter-widgets/controls",
      "_view_module_version": "1.5.0",
      "_view_name": "ProgressView",
      "bar_style": "success",
      "description": "",
      "description_tooltip": null,
      "layout": "IPY_MODEL_a1a0be9fcec04bc0abcff95b6344d0da",
      "max": 5721,
      "min": 0,
      "orientation": "horizontal",
      "style": "IPY_MODEL_d1763ddc175446cc9445bcf2c74d3d0c",
      "value": 5721
     }
    },
    "8798185f0c344c0595c873f50eaadbc7": {
     "model_module": "@jupyter-widgets/controls",
     "model_module_version": "1.5.0",
     "model_name": "HTMLModel",
     "state": {
      "_dom_classes": [],
      "_model_module": "@jupyter-widgets/controls",
      "_model_module_version": "1.5.0",
      "_model_name": "HTMLModel",
      "_view_count": null,
      "_view_module": "@jupyter-widgets/controls",
      "_view_module_version": "1.5.0",
      "_view_name": "HTMLView",
      "description": "",
      "description_tooltip": null,
      "layout": "IPY_MODEL_6ac532b706854a13a3133f067940a961",
      "placeholder": "​",
      "style": "IPY_MODEL_1ff0fd78673e48ddad1fbc2e693b5839",
      "value": "100%"
     }
    },
    "977957d1b1d14ed8bfd2fa223800cc10": {
     "model_module": "@jupyter-widgets/controls",
     "model_module_version": "1.5.0",
     "model_name": "DescriptionStyleModel",
     "state": {
      "_model_module": "@jupyter-widgets/controls",
      "_model_module_version": "1.5.0",
      "_model_name": "DescriptionStyleModel",
      "_view_count": null,
      "_view_module": "@jupyter-widgets/base",
      "_view_module_version": "1.2.0",
      "_view_name": "StyleView",
      "description_width": ""
     }
    },
    "989f3347208d4d43b898f1c13f266fab": {
     "model_module": "@jupyter-widgets/base",
     "model_module_version": "1.2.0",
     "model_name": "LayoutModel",
     "state": {
      "_model_module": "@jupyter-widgets/base",
      "_model_module_version": "1.2.0",
      "_model_name": "LayoutModel",
      "_view_count": null,
      "_view_module": "@jupyter-widgets/base",
      "_view_module_version": "1.2.0",
      "_view_name": "LayoutView",
      "align_content": null,
      "align_items": null,
      "align_self": null,
      "border": null,
      "bottom": null,
      "display": null,
      "flex": null,
      "flex_flow": null,
      "grid_area": null,
      "grid_auto_columns": null,
      "grid_auto_flow": null,
      "grid_auto_rows": null,
      "grid_column": null,
      "grid_gap": null,
      "grid_row": null,
      "grid_template_areas": null,
      "grid_template_columns": null,
      "grid_template_rows": null,
      "height": null,
      "justify_content": null,
      "justify_items": null,
      "left": null,
      "margin": null,
      "max_height": null,
      "max_width": null,
      "min_height": null,
      "min_width": null,
      "object_fit": null,
      "object_position": null,
      "order": null,
      "overflow": null,
      "overflow_x": null,
      "overflow_y": null,
      "padding": null,
      "right": null,
      "top": null,
      "visibility": null,
      "width": null
     }
    },
    "a1a0be9fcec04bc0abcff95b6344d0da": {
     "model_module": "@jupyter-widgets/base",
     "model_module_version": "1.2.0",
     "model_name": "LayoutModel",
     "state": {
      "_model_module": "@jupyter-widgets/base",
      "_model_module_version": "1.2.0",
      "_model_name": "LayoutModel",
      "_view_count": null,
      "_view_module": "@jupyter-widgets/base",
      "_view_module_version": "1.2.0",
      "_view_name": "LayoutView",
      "align_content": null,
      "align_items": null,
      "align_self": null,
      "border": null,
      "bottom": null,
      "display": null,
      "flex": null,
      "flex_flow": null,
      "grid_area": null,
      "grid_auto_columns": null,
      "grid_auto_flow": null,
      "grid_auto_rows": null,
      "grid_column": null,
      "grid_gap": null,
      "grid_row": null,
      "grid_template_areas": null,
      "grid_template_columns": null,
      "grid_template_rows": null,
      "height": null,
      "justify_content": null,
      "justify_items": null,
      "left": null,
      "margin": null,
      "max_height": null,
      "max_width": null,
      "min_height": null,
      "min_width": null,
      "object_fit": null,
      "object_position": null,
      "order": null,
      "overflow": null,
      "overflow_x": null,
      "overflow_y": null,
      "padding": null,
      "right": null,
      "top": null,
      "visibility": null,
      "width": null
     }
    },
    "a2cc90ee5eb14b609bcdd85845bdc76d": {
     "model_module": "@jupyter-widgets/controls",
     "model_module_version": "1.5.0",
     "model_name": "DescriptionStyleModel",
     "state": {
      "_model_module": "@jupyter-widgets/controls",
      "_model_module_version": "1.5.0",
      "_model_name": "DescriptionStyleModel",
      "_view_count": null,
      "_view_module": "@jupyter-widgets/base",
      "_view_module_version": "1.2.0",
      "_view_name": "StyleView",
      "description_width": ""
     }
    },
    "aeab3eb471e043e5a89285a06844967c": {
     "model_module": "@jupyter-widgets/base",
     "model_module_version": "1.2.0",
     "model_name": "LayoutModel",
     "state": {
      "_model_module": "@jupyter-widgets/base",
      "_model_module_version": "1.2.0",
      "_model_name": "LayoutModel",
      "_view_count": null,
      "_view_module": "@jupyter-widgets/base",
      "_view_module_version": "1.2.0",
      "_view_name": "LayoutView",
      "align_content": null,
      "align_items": null,
      "align_self": null,
      "border": null,
      "bottom": null,
      "display": null,
      "flex": null,
      "flex_flow": null,
      "grid_area": null,
      "grid_auto_columns": null,
      "grid_auto_flow": null,
      "grid_auto_rows": null,
      "grid_column": null,
      "grid_gap": null,
      "grid_row": null,
      "grid_template_areas": null,
      "grid_template_columns": null,
      "grid_template_rows": null,
      "height": null,
      "justify_content": null,
      "justify_items": null,
      "left": null,
      "margin": null,
      "max_height": null,
      "max_width": null,
      "min_height": null,
      "min_width": null,
      "object_fit": null,
      "object_position": null,
      "order": null,
      "overflow": null,
      "overflow_x": null,
      "overflow_y": null,
      "padding": null,
      "right": null,
      "top": null,
      "visibility": null,
      "width": null
     }
    },
    "b10bcb6bf6714a458ed526a3a0ba4e90": {
     "model_module": "@jupyter-widgets/base",
     "model_module_version": "1.2.0",
     "model_name": "LayoutModel",
     "state": {
      "_model_module": "@jupyter-widgets/base",
      "_model_module_version": "1.2.0",
      "_model_name": "LayoutModel",
      "_view_count": null,
      "_view_module": "@jupyter-widgets/base",
      "_view_module_version": "1.2.0",
      "_view_name": "LayoutView",
      "align_content": null,
      "align_items": null,
      "align_self": null,
      "border": null,
      "bottom": null,
      "display": null,
      "flex": null,
      "flex_flow": null,
      "grid_area": null,
      "grid_auto_columns": null,
      "grid_auto_flow": null,
      "grid_auto_rows": null,
      "grid_column": null,
      "grid_gap": null,
      "grid_row": null,
      "grid_template_areas": null,
      "grid_template_columns": null,
      "grid_template_rows": null,
      "height": null,
      "justify_content": null,
      "justify_items": null,
      "left": null,
      "margin": null,
      "max_height": null,
      "max_width": null,
      "min_height": null,
      "min_width": null,
      "object_fit": null,
      "object_position": null,
      "order": null,
      "overflow": null,
      "overflow_x": null,
      "overflow_y": null,
      "padding": null,
      "right": null,
      "top": null,
      "visibility": null,
      "width": null
     }
    },
    "b17f53efabf143c48cef4b16d151b0a3": {
     "model_module": "@jupyter-widgets/controls",
     "model_module_version": "1.5.0",
     "model_name": "HBoxModel",
     "state": {
      "_dom_classes": [],
      "_model_module": "@jupyter-widgets/controls",
      "_model_module_version": "1.5.0",
      "_model_name": "HBoxModel",
      "_view_count": null,
      "_view_module": "@jupyter-widgets/controls",
      "_view_module_version": "1.5.0",
      "_view_name": "HBoxView",
      "box_style": "",
      "children": [
       "IPY_MODEL_8798185f0c344c0595c873f50eaadbc7",
       "IPY_MODEL_6a187cfc5d374f2986c35eeb5873ccc6",
       "IPY_MODEL_556bed9f13ae47a9868271bc17b5e4e4"
      ],
      "layout": "IPY_MODEL_02dfd3a01c8f43e4b39ab2b5b5168b5e"
     }
    },
    "cc3f187af53c4aa9aeb2b1b9b8608b60": {
     "model_module": "@jupyter-widgets/controls",
     "model_module_version": "1.5.0",
     "model_name": "DescriptionStyleModel",
     "state": {
      "_model_module": "@jupyter-widgets/controls",
      "_model_module_version": "1.5.0",
      "_model_name": "DescriptionStyleModel",
      "_view_count": null,
      "_view_module": "@jupyter-widgets/base",
      "_view_module_version": "1.2.0",
      "_view_name": "StyleView",
      "description_width": ""
     }
    },
    "d0dbda4592ba4278848a2373d65aabe1": {
     "model_module": "@jupyter-widgets/controls",
     "model_module_version": "1.5.0",
     "model_name": "HBoxModel",
     "state": {
      "_dom_classes": [],
      "_model_module": "@jupyter-widgets/controls",
      "_model_module_version": "1.5.0",
      "_model_name": "HBoxModel",
      "_view_count": null,
      "_view_module": "@jupyter-widgets/controls",
      "_view_module_version": "1.5.0",
      "_view_name": "HBoxView",
      "box_style": "",
      "children": [
       "IPY_MODEL_59b1e076b41e4b0e93ab451523e286b0",
       "IPY_MODEL_6b6adb788fc740d0ba226b64a3dae57b",
       "IPY_MODEL_dd47c055e40a4d4d9745a82468057d14"
      ],
      "layout": "IPY_MODEL_aeab3eb471e043e5a89285a06844967c"
     }
    },
    "d1763ddc175446cc9445bcf2c74d3d0c": {
     "model_module": "@jupyter-widgets/controls",
     "model_module_version": "1.5.0",
     "model_name": "ProgressStyleModel",
     "state": {
      "_model_module": "@jupyter-widgets/controls",
      "_model_module_version": "1.5.0",
      "_model_name": "ProgressStyleModel",
      "_view_count": null,
      "_view_module": "@jupyter-widgets/base",
      "_view_module_version": "1.2.0",
      "_view_name": "StyleView",
      "bar_color": null,
      "description_width": ""
     }
    },
    "dd47c055e40a4d4d9745a82468057d14": {
     "model_module": "@jupyter-widgets/controls",
     "model_module_version": "1.5.0",
     "model_name": "HTMLModel",
     "state": {
      "_dom_classes": [],
      "_model_module": "@jupyter-widgets/controls",
      "_model_module_version": "1.5.0",
      "_model_name": "HTMLModel",
      "_view_count": null,
      "_view_module": "@jupyter-widgets/controls",
      "_view_module_version": "1.5.0",
      "_view_name": "HTMLView",
      "description": "",
      "description_tooltip": null,
      "layout": "IPY_MODEL_0f69d005c1c042529eaf6d7520592358",
      "placeholder": "​",
      "style": "IPY_MODEL_cc3f187af53c4aa9aeb2b1b9b8608b60",
      "value": " 5721/5721 [13:26&lt;00:00,  8.55it/s]"
     }
    },
    "e991c1150d9d4352bc01526c438e3976": {
     "model_module": "@jupyter-widgets/controls",
     "model_module_version": "1.5.0",
     "model_name": "ProgressStyleModel",
     "state": {
      "_model_module": "@jupyter-widgets/controls",
      "_model_module_version": "1.5.0",
      "_model_name": "ProgressStyleModel",
      "_view_count": null,
      "_view_module": "@jupyter-widgets/base",
      "_view_module_version": "1.2.0",
      "_view_name": "StyleView",
      "bar_color": null,
      "description_width": ""
     }
    }
   }
  }
 },
 "nbformat": 4,
 "nbformat_minor": 4
}
